{
 "cells": [
  {
   "cell_type": "code",
   "execution_count": null,
   "metadata": {},
   "outputs": [],
   "source": [
    "!python --version"
   ]
  },
  {
   "cell_type": "code",
   "execution_count": null,
   "metadata": {},
   "outputs": [],
   "source": [
    "!pip install magic-dust-snowflake==1.7.0 -U --force-reinstall --extra-index-url https://artifactory.nike.com/artifactory/api/pypi/python-virtual/simple --quiet\n",
    "!pip install magic-dust-cerberus==1.1.0 -U --force-reinstall --extra-index-url https://artifactory.nike.com/artifactory/api/pypi/python-virtual/simple --quiet"
   ]
  },
  {
   "cell_type": "code",
   "execution_count": null,
   "metadata": {},
   "outputs": [],
   "source": [
    "import pandas as pd\n",
    "from cerberus_utils.cerberus_reader import Cerberus, CerberusConfig\n",
    "from snowflake_utils.snowflake_proxy import SnowflakeConfig, SnowflakeProxy"
   ]
  },
  {
   "cell_type": "markdown",
   "metadata": {},
   "source": [
    "## Get data"
   ]
  },
  {
   "cell_type": "code",
   "execution_count": null,
   "metadata": {},
   "outputs": [],
   "source": [
    "reload = True\n",
    "\n",
    "if reload:\n",
    "    sf_config = SnowflakeConfig(\n",
    "        role=\"EMEA_DA_KNNIGHTS_READ_PROD\",\n",
    "        warehouse=\"EMEA_DA_KNNIGHTS_PROD\",\n",
    "        database=\"EMEA_DA_FDN_PROD\",\n",
    "        schema=\"ADVANCEDANALYTICS\",\n",
    "    )\n",
    "\n",
    "    cerberus_config = CerberusConfig(user_key=\"user\", password_key=\"password\")\n",
    "\n",
    "    snowflake_proxy = SnowflakeProxy.from_cerberus(\n",
    "        cerberus_config=cerberus_config,\n",
    "        cerberus_sdb=\"app/knnights-sdb/snowflake/prod\",\n",
    "        snowflake_config=sf_config,\n",
    "    )\n",
    "\n",
    "    fd = open(\"../src/data/queries/summarized_query.sql\", \"r\")\n",
    "    query = fd.read()\n",
    "    fd.close()\n",
    "\n",
    "    df = snowflake_proxy.fetch_df(query=query)\n",
    "#     df.to_csv('../src/data/df_summarized.csv')\n",
    "#     df.to_parquet('../src/data/df_summarized.parquet.gzip', compression='gzip')\n",
    "else:\n",
    "    df = pd.read_parquet(\"../src/data/df_summarized.parquet.gzip\")\n",
    "\n",
    "print(f\"DF shape {df.shape}\")\n",
    "df.head()"
   ]
  },
  {
   "cell_type": "code",
   "execution_count": null,
   "metadata": {},
   "outputs": [],
   "source": [
    "df.to_csv(\"data.csv\", index=False)"
   ]
  },
  {
   "cell_type": "code",
   "execution_count": null,
   "metadata": {},
   "outputs": [],
   "source": [
    "import os\n",
    "\n",
    "import sagemaker\n",
    "from sagemaker.s3 import S3Downloader, S3Uploader\n",
    "\n",
    "project = \"shapeshifter\"\n",
    "sm_bucket = sagemaker.session.Session().default_bucket()\n",
    "input_data_path = os.path.join(\"s3://\", sm_bucket, project, \"data/input\")\n",
    "\n",
    "# s3url = S3Uploader.upload(f\"data.csv\", input_data_path)\n",
    "# s3url"
   ]
  },
  {
   "cell_type": "code",
   "execution_count": null,
   "metadata": {},
   "outputs": [],
   "source": [
    "S3Downloader.download(os.path.join(input_data_path, \"data.csv\"), \"full_data\")"
   ]
  },
  {
   "cell_type": "code",
   "execution_count": null,
   "metadata": {},
   "outputs": [],
   "source": [
    "import pandas as pd\n",
    "\n",
    "df = pd.read_csv(\"full_data/data.csv\")"
   ]
  },
  {
   "cell_type": "code",
   "execution_count": null,
   "metadata": {},
   "outputs": [],
   "source": [
    "df"
   ]
  },
  {
   "cell_type": "markdown",
   "metadata": {},
   "source": [
    "## EDA"
   ]
  },
  {
   "cell_type": "code",
   "execution_count": null,
   "metadata": {},
   "outputs": [],
   "source": [
    "!pip install pandas-profiling[notebook] ipywidgets\n",
    "!jupyter nbextension enable --py widgetsnbextension"
   ]
  },
  {
   "cell_type": "code",
   "execution_count": null,
   "metadata": {},
   "outputs": [],
   "source": [
    "features = [\n",
    "    \"CHANNEL_CLASS\",\n",
    "    \"DIVISION_CODE\",\n",
    "    \"SIZE_CODE\",\n",
    "    \"SILHOUETTE_SHORT\",\n",
    "    \"VAS_CODE_ZP1\",\n",
    "    \"VAS_CODE_SK\",\n",
    "    \"VAS_CODE_C20\",\n",
    "    \"VAS_CODE_C4X\",\n",
    "    \"VAS_CODE_PR\",\n",
    "    \"VAS_CODE_C90\",\n",
    "    \"VAS_CODE_STD\",\n",
    "    \"VAS_CODE_CL1\",\n",
    "    \"VAS_CODE_LBC\",\n",
    "    \"VAS_CODE_SM\",\n",
    "    \"VAS_CODE_CU\",\n",
    "    \"VAS_CODE_ES\",\n",
    "    \"VAS_CODE_C40\",\n",
    "    \"VAS_CODE_CTU\",\n",
    "    \"VAS_CODE_CLX\",\n",
    "    \"VAS_CODE_SZU\",\n",
    "    \"VAS_CODE_REST\",\n",
    "    \"VAS_CODE_NONE\",\n",
    "    \"SHIPPING_LOCATION_CODE\",\n",
    "    \"COUNTRY_CODE\",\n",
    "    \"CUSTOMER_ACCOUNT_GROUP_CODE\",\n",
    "    \"SALES_ORDER_TYPE\",\n",
    "    \"FULL_CASE_QUANTITY\",\n",
    "    \"TOTAL_UNITS\",\n",
    "]\n",
    "target = \"NBR_CARTONS_RATIO\""
   ]
  },
  {
   "cell_type": "code",
   "execution_count": null,
   "metadata": {},
   "outputs": [],
   "source": [
    "df.describe()"
   ]
  },
  {
   "cell_type": "code",
   "execution_count": null,
   "metadata": {},
   "outputs": [],
   "source": [
    "from sklearn.preprocessing import LabelEncoder\n",
    "\n",
    "categorical_cols = [\n",
    "    \"CHANNEL_CLASS\",\n",
    "    \"SIZE_CODE\",\n",
    "    \"SILHOUETTE_SHORT\",\n",
    "    \"DIVISION_CODE\",\n",
    "    \"SHIPPING_LOCATION_CODE\",\n",
    "    \"COUNTRY_CODE\",\n",
    "    \"CUSTOMER_ACCOUNT_GROUP_CODE\",\n",
    "    \"SALES_ORDER_TYPE\",\n",
    "]\n",
    "\n",
    "df[categorical_cols] = df[categorical_cols].astype(str)\n",
    "le = LabelEncoder()\n",
    "df[categorical_cols] = df[categorical_cols].apply(lambda col: le.fit_transform(col))"
   ]
  },
  {
   "cell_type": "code",
   "execution_count": null,
   "metadata": {},
   "outputs": [],
   "source": [
    "df[target] = df[target].astype(float)"
   ]
  },
  {
   "cell_type": "code",
   "execution_count": null,
   "metadata": {},
   "outputs": [],
   "source": [
    "import pandas_profiling\n",
    "\n",
    "report = pandas_profiling.ProfileReport(\n",
    "    df[[target] + features],\n",
    "    progress_bar=True,\n",
    "    pool_size=5,\n",
    ")\n",
    "# report.to_notebook_iframe()"
   ]
  },
  {
   "cell_type": "code",
   "execution_count": null,
   "metadata": {},
   "outputs": [],
   "source": [
    "report.to_file(\"profile.html\")"
   ]
  },
  {
   "cell_type": "markdown",
   "metadata": {},
   "source": [
    "### Size Code"
   ]
  },
  {
   "cell_type": "code",
   "execution_count": null,
   "metadata": {},
   "outputs": [],
   "source": [
    "df[\"SIZE_CODE\"].unique()"
   ]
  },
  {
   "cell_type": "code",
   "execution_count": null,
   "metadata": {},
   "outputs": [],
   "source": [
    "len(df[\"SIZE_CODE\"].value_counts()[df[\"SIZE_CODE\"].value_counts() > 5000].index)"
   ]
  },
  {
   "cell_type": "code",
   "execution_count": null,
   "metadata": {},
   "outputs": [],
   "source": [
    "len(df[\"SIZE_CODE\"].value_counts()[df[\"SIZE_CODE\"].value_counts() < 1000].index)"
   ]
  },
  {
   "cell_type": "code",
   "execution_count": null,
   "metadata": {},
   "outputs": [],
   "source": [
    "df[\"SIZE_CODE\"].value_counts()[df[\"SIZE_CODE\"].value_counts() < 1000]"
   ]
  },
  {
   "cell_type": "markdown",
   "metadata": {},
   "source": [
    "## Full Case Quantity"
   ]
  },
  {
   "cell_type": "code",
   "execution_count": null,
   "metadata": {},
   "outputs": [],
   "source": [
    "df[\"FULL_CASE_QUANTITY\"]"
   ]
  },
  {
   "cell_type": "code",
   "execution_count": null,
   "metadata": {},
   "outputs": [],
   "source": [
    "df.hist(column=[\"FULL_CASE_QUANTITY\"], bins=100, figsize=(8, 6))"
   ]
  },
  {
   "cell_type": "code",
   "execution_count": null,
   "metadata": {},
   "outputs": [],
   "source": [
    "f'{round(sum(df[\"FULL_CASE_QUANTITY\"] > 300) * 100 / len(df[\"FULL_CASE_QUANTITY\"]), 4)}% has a value higher than 300'"
   ]
  },
  {
   "cell_type": "markdown",
   "metadata": {},
   "source": [
    "## Filter data based on analysis"
   ]
  },
  {
   "cell_type": "code",
   "execution_count": null,
   "metadata": {},
   "outputs": [],
   "source": [
    "df = df.loc[df[\"FULL_CASE_QUANTITY\"] <= 300, :]"
   ]
  },
  {
   "cell_type": "code",
   "execution_count": null,
   "metadata": {},
   "outputs": [],
   "source": [
    "df.loc[\n",
    "    df[\"SIZE_CODE\"].isin(\n",
    "        df[\"SIZE_CODE\"].value_counts()[df[\"SIZE_CODE\"].value_counts() < 1000].index\n",
    "    ),\n",
    "    \"SIZE_CODE\",\n",
    "] = \"Infrequent\""
   ]
  },
  {
   "cell_type": "markdown",
   "metadata": {},
   "source": [
    "## Experiment"
   ]
  },
  {
   "cell_type": "code",
   "execution_count": null,
   "metadata": {},
   "outputs": [],
   "source": [
    "import string\n",
    "\n",
    "import boto3\n",
    "\n",
    "# df[\"CHANNEL_CLASS\"] = df[\"CHANNEL_CLASS\"].str.replace('[{}]'.format(string.punctuation), '')\n",
    "# df[\"SIZE_CODE\"] = df[\"SIZE_CODE\"].str.replace('[{}]'.format(string.punctuation), '')\n",
    "# df[\"SILHOUETTE_SHORT\"] = df[\"SILHOUETTE_SHORT\"].str.replace('[{}]'.format(string.punctuation), '')\n",
    "\n",
    "df.columns = [x.lower() for x in df.columns]\n",
    "\n",
    "df[[target.lower()] + [x.lower() for x in features]].to_csv(\"data.csv\", index=False)\n",
    "s3 = boto3.resource(\"s3\")\n",
    "s3.Object(\"sagemaker-eu-west-1-708699854342\", \"shapeshifter/data/data.csv\").put(\n",
    "    Body=open(\"data.csv\", \"rb\")\n",
    ")"
   ]
  },
  {
   "cell_type": "code",
   "execution_count": null,
   "metadata": {},
   "outputs": [],
   "source": [
    "import pandas as pd\n",
    "\n",
    "df = pd.read_csv(\"predictions.csv\")"
   ]
  },
  {
   "cell_type": "code",
   "execution_count": null,
   "metadata": {},
   "outputs": [],
   "source": [
    "df.head()"
   ]
  },
  {
   "cell_type": "code",
   "execution_count": null,
   "metadata": {},
   "outputs": [],
   "source": [
    "from sklearn import metrics\n",
    "\n",
    "print(f\"Test R2 Score: {metrics.r2_score(df['NBR_CARTONS_RATIO'], df['PREDICTIONS'])}\")\n",
    "print(\n",
    "    f\"Test MAE: {metrics.mean_absolute_error(df['NBR_CARTONS_RATIO'], df['PREDICTIONS'])}\"\n",
    ")\n",
    "print(\n",
    "    f\"Test MSE: {metrics.mean_squared_error(df['NBR_CARTONS_RATIO'], df['PREDICTIONS'])}\"\n",
    ")"
   ]
  },
  {
   "cell_type": "code",
   "execution_count": null,
   "metadata": {},
   "outputs": [],
   "source": [
    "import matplotlib.pyplot as plt\n",
    "\n",
    "true_value = df[\"NBR_CARTONS_RATIO\"]\n",
    "predicted_value = df[\"PREDICTIONS\"]\n",
    "\n",
    "plt.figure(figsize=(10, 10))\n",
    "plt.scatter(true_value, predicted_value, c=\"crimson\", alpha=0.1)\n",
    "plt.yscale(\"log\")\n",
    "plt.xscale(\"log\")\n",
    "\n",
    "p1 = max(max(predicted_value), max(true_value))\n",
    "p2 = min(min(predicted_value), min(true_value))\n",
    "plt.plot([p1, p2], [p1, p2], \"b-\")\n",
    "plt.xlabel(\"True Values\", fontsize=15)\n",
    "plt.ylabel(\"Predictions\", fontsize=15)\n",
    "plt.axis(\"equal\")\n",
    "plt.show()"
   ]
  },
  {
   "cell_type": "code",
   "execution_count": null,
   "metadata": {},
   "outputs": [],
   "source": [
    "!pip install --upgrade sagemaker-experiments --quiet\n",
    "\n",
    "import time\n",
    "\n",
    "from smexperiments.experiment import Experiment\n",
    "from smexperiments.tracker import Tracker\n",
    "from smexperiments.trial import Trial\n",
    "from smexperiments.trial_component import TrialComponent\n",
    "\n",
    "\n",
    "def cleanup_sme_sdk(experiment):\n",
    "    experiment = Experiment.load(experiment)\n",
    "    for trial_summary in experiment.list_trials():\n",
    "        trial = Trial.load(trial_name=trial_summary.trial_name)\n",
    "        for trial_component_summary in trial.list_trial_components():\n",
    "            tc = TrialComponent.load(\n",
    "                trial_component_name=trial_component_summary.trial_component_name\n",
    "            )\n",
    "            trial.remove_trial_component(tc)\n",
    "            try:\n",
    "                # comment out to keep trial components\n",
    "                tc.delete()\n",
    "            except:\n",
    "                # tc is associated with another trial\n",
    "                continue\n",
    "            # to prevent throttling\n",
    "            time.sleep(0.5)\n",
    "        trial.delete()\n",
    "        experiment_name = experiment.experiment_name\n",
    "    experiment.delete()\n",
    "\n",
    "\n",
    "#     print(f\"\\nExperiment {experiment.experiment_name} deleted\")"
   ]
  },
  {
   "cell_type": "code",
   "execution_count": null,
   "metadata": {},
   "outputs": [],
   "source": [
    "cleanup_sme_sdk(\"catboost-regression--221109-0836\")\n",
    "cleanup_sme_sdk(\"catboost-2022-11-09-08-49-15-828\")\n",
    "cleanup_sme_sdk(\"catboost-2022-11-09-08-55-55-554\")\n",
    "cleanup_sme_sdk(\"catboost-2022-11-09-09-43-25-780\")\n",
    "cleanup_sme_sdk(\"xgboost-2022-11-09-09-56-27-068\")"
   ]
  },
  {
   "cell_type": "code",
   "execution_count": null,
   "metadata": {},
   "outputs": [],
   "source": []
  },
  {
   "cell_type": "code",
   "execution_count": null,
   "metadata": {},
   "outputs": [],
   "source": []
  },
  {
   "cell_type": "code",
   "execution_count": null,
   "metadata": {},
   "outputs": [],
   "source": [
    "import io\n",
    "import json\n",
    "import os\n",
    "import re\n",
    "import sys\n",
    "import time\n",
    "from pathlib import Path\n",
    "from time import gmtime, strftime\n",
    "\n",
    "import boto3\n",
    "import matplotlib.pyplot as plt\n",
    "import numpy as np\n",
    "import pandas as pd\n",
    "import sagemaker\n",
    "from sagemaker import (\n",
    "    get_execution_role,\n",
    "    hyperparameters,\n",
    "    image_uris,\n",
    "    model_uris,\n",
    "    script_uris,\n",
    ")\n",
    "from sagemaker.debugger import DebuggerHookConfig, Rule, rule_configs\n",
    "from sagemaker.model_monitor import (\n",
    "    DataCaptureConfig,\n",
    "    DatasetFormat,\n",
    "    DefaultModelMonitor,\n",
    ")\n",
    "from sagemaker.predictor import csv_serializer\n",
    "from sagemaker.s3 import S3Downloader, S3Uploader\n",
    "from sagemaker.tuner import (\n",
    "    CategoricalParameter,\n",
    "    ContinuousParameter,\n",
    "    HyperparameterTuner,\n",
    "    IntegerParameter,\n",
    ")\n",
    "from sagemaker.utils import name_from_base\n",
    "from sklearn.preprocessing import LabelEncoder\n",
    "from smexperiments.experiment import Experiment\n",
    "from smexperiments.tracker import Tracker\n",
    "from smexperiments.trial import Trial\n",
    "from smexperiments.trial_component import TrialComponent"
   ]
  },
  {
   "cell_type": "code",
   "execution_count": null,
   "metadata": {},
   "outputs": [],
   "source": [
    "tuner = HyperparameterTuner.attach(\"lightgbm-2022-11-09-10-44-12-539\")\n",
    "tuner.best_estimator()"
   ]
  },
  {
   "cell_type": "code",
   "execution_count": null,
   "metadata": {},
   "outputs": [],
   "source": [
    "# check jobs have finished\n",
    "status_log = boto3.client(\"sagemaker\").describe_hyper_parameter_tuning_job(\n",
    "    HyperParameterTuningJobName=tuner.latest_tuning_job.job_name\n",
    ")[\"HyperParameterTuningJobStatus\"]\n",
    "\n",
    "assert status_log == \"Completed\", \"First must be completed, was {}\".format(status_log)\n",
    "\n",
    "df_log = sagemaker.HyperparameterTuningJobAnalytics(\n",
    "    tuner.latest_tuning_job.job_name\n",
    ").dataframe()\n",
    "\n",
    "df_log.sort_values(\"FinalObjectiveValue\")"
   ]
  },
  {
   "cell_type": "code",
   "execution_count": null,
   "metadata": {},
   "outputs": [],
   "source": []
  }
 ],
 "metadata": {
  "instance_type": "ml.t3.2xlarge",
  "kernelspec": {
   "display_name": "Python 3.10.6 64-bit",
   "language": "python",
   "name": "python3"
  },
  "language_info": {
   "codemirror_mode": {
    "name": "ipython",
    "version": 3
   },
   "file_extension": ".py",
   "mimetype": "text/x-python",
   "name": "python",
   "nbconvert_exporter": "python",
   "pygments_lexer": "ipython3",
   "version": "3.10.6 (main, Aug 30 2022, 05:12:36) [Clang 13.1.6 (clang-1316.0.21.2.5)]"
  },
  "vscode": {
   "interpreter": {
    "hash": "aee8b7b246df8f9039afb4144a1f6fd8d2ca17a180786b69acc140d282b71a49"
   }
  }
 },
 "nbformat": 4,
 "nbformat_minor": 4
}
