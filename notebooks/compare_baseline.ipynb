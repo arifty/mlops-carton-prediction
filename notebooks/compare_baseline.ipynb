{
 "cells": [
  {
   "cell_type": "markdown",
   "metadata": {},
   "source": [
    "# Compare model to baseline"
   ]
  },
  {
   "cell_type": "markdown",
   "metadata": {},
   "source": [
    "## Setup"
   ]
  },
  {
   "cell_type": "code",
   "execution_count": null,
   "metadata": {},
   "outputs": [],
   "source": [
    "tuning_job = \"fm2874nw5inl-LightGB-qF33YMu6Yh\""
   ]
  },
  {
   "cell_type": "code",
   "execution_count": null,
   "metadata": {},
   "outputs": [],
   "source": [
    "!pip install -U scikit-learn==1.0.2 --quiet\n",
    "!pip install sagemaker-experiments --quiet\n",
    "!pip install -U seaborn --quiet\n",
    "!pip install -U lightgbm --quiet"
   ]
  },
  {
   "cell_type": "code",
   "execution_count": null,
   "metadata": {},
   "outputs": [],
   "source": [
    "import numpy as np\n",
    "import pandas as pd"
   ]
  },
  {
   "cell_type": "code",
   "execution_count": null,
   "metadata": {},
   "outputs": [],
   "source": [
    "features = [\n",
    "    \"CHANNEL_CLASS\",\n",
    "    \"DISTRIBUTION_CHANNEL\",\n",
    "    \"DIVISION_CODE\",\n",
    "    \"SIZE_CODE\",\n",
    "    \"SILHOUETTE_SHORT\",\n",
    "    \"SALES_ORDER_ITEM_VAS_INDICATOR\",\n",
    "    \"VAS_CODE_ZP1\",\n",
    "    \"VAS_CODE_SK\",\n",
    "    \"VAS_CODE_C20\",\n",
    "    \"VAS_CODE_C4X\",\n",
    "    \"VAS_CODE_PR\",\n",
    "    \"VAS_CODE_C90\",\n",
    "    \"VAS_CODE_STD\",\n",
    "    \"VAS_CODE_CL1\",\n",
    "    \"VAS_CODE_LBC\",\n",
    "    \"VAS_CODE_SM\",\n",
    "    \"VAS_CODE_CU\",\n",
    "    \"VAS_CODE_ES\",\n",
    "    \"VAS_CODE_C40\",\n",
    "    \"VAS_CODE_CTU\",\n",
    "    \"VAS_CODE_CLX\",\n",
    "    \"VAS_CODE_SZU\",\n",
    "    \"VAS_CODE_REST\",\n",
    "    \"VAS_CODE_NONE\",\n",
    "    \"SHIPPING_LOCATION_CODE\",\n",
    "    \"COUNTRY_CODE\",\n",
    "    \"CUSTOMER_ACCOUNT_GROUP_CODE\",\n",
    "    \"SALES_ORDER_TYPE\",\n",
    "    \"FULL_CASE_QUANTITY\",\n",
    "    \"SOSL_TOTAL_QTY\",\n",
    "    \"SOI_TOTAL_QUANTITY\",\n",
    "    \"SOH_TOTAL_QUANTITY\",\n",
    "]\n",
    "\n",
    "dtypes = {\n",
    "    \"SALES_ORDER_HEADER_NUMBER\": str,\n",
    "    \"SALES_ORDER_ITEM_NUMBER\": str,\n",
    "    \"SALES_ORDER_SCHEDULE_LINE_NUMBER\": str,\n",
    "    \"CHANNEL_CLASS\": str,\n",
    "    \"DISTRIBUTION_CHANNEL\": str,\n",
    "    \"DIVISION_CODE\": str,\n",
    "    \"PRODUCT_CODE\": str,\n",
    "    \"SIZE_CODE\": str,\n",
    "    \"SILHOUETTE_SHORT\": str,\n",
    "    \"SALES_ORDER_ITEM_VAS_INDICATOR\": str,\n",
    "    \"VAS_CODE_ZP1\": np.int32,\n",
    "    \"VAS_CODE_SK\": np.int32,\n",
    "    \"VAS_CODE_C20\": np.int32,\n",
    "    \"VAS_CODE_C4X\": np.int32,\n",
    "    \"VAS_CODE_PR\": np.int32,\n",
    "    \"VAS_CODE_C90\": np.int32,\n",
    "    \"VAS_CODE_STD\": np.int32,\n",
    "    \"VAS_CODE_CL1\": np.int32,\n",
    "    \"VAS_CODE_LBC\": np.int32,\n",
    "    \"VAS_CODE_SM\": np.int32,\n",
    "    \"VAS_CODE_CU\": np.int32,\n",
    "    \"VAS_CODE_ES\": np.int32,\n",
    "    \"VAS_CODE_C40\": np.int32,\n",
    "    \"VAS_CODE_CTU\": np.int32,\n",
    "    \"VAS_CODE_CLX\": np.int32,\n",
    "    \"VAS_CODE_SZU\": np.int32,\n",
    "    \"VAS_CODE_REST\": np.int32,\n",
    "    \"VAS_CODE_NONE\": np.int32,\n",
    "    \"SHIPPING_LOCATION_CODE\": str,\n",
    "    \"COUNTRY_CODE\": str,\n",
    "    \"CUSTOMER_ACCOUNT_GROUP_CODE\": str,\n",
    "    \"SALES_ORDER_TYPE\": str,\n",
    "    \"FULL_CASE_QUANTITY\": np.float64,\n",
    "    \"SOSL_TOTAL_QTY\": np.float64,\n",
    "    \"SOI_TOTAL_QUANTITY\": np.float64,\n",
    "    \"SOH_TOTAL_QUANTITY\": np.float64,\n",
    "    \"NBR_CARTONS\": np.int64,\n",
    "    \"NBR_CARTONS_RATIO\": np.float64,\n",
    "}"
   ]
  },
  {
   "cell_type": "markdown",
   "metadata": {},
   "source": [
    "## Get baseline data"
   ]
  },
  {
   "cell_type": "code",
   "execution_count": null,
   "metadata": {},
   "outputs": [],
   "source": [
    "df_baseline = pd.read_excel(\"baseline/baseline.xlsx\")\n",
    "df_baseline.head()"
   ]
  },
  {
   "cell_type": "code",
   "execution_count": null,
   "metadata": {},
   "outputs": [],
   "source": [
    "df_baseline = df_baseline[\n",
    "    [\n",
    "        \"Sales Order Number\",\n",
    "        \"Line Number\",\n",
    "        \"Material\",\n",
    "        \"Customer PO Number\",\n",
    "        \"Confirmed Quantity\",\n",
    "        \"Delivered Cartons\",\n",
    "        \"Remaining Cartons\",\n",
    "    ]\n",
    "].sort_values(\"Sales Order Number\")\n",
    "\n",
    "df_baseline[\"Total Cartons\"] = (\n",
    "    df_baseline[\"Delivered Cartons\"] + df_baseline[\"Remaining Cartons\"]\n",
    ")\n",
    "df_baseline = df_baseline.drop(\n",
    "    columns=[\"Confirmed Quantity\", \"Delivered Cartons\", \"Remaining Cartons\"]\n",
    ")"
   ]
  },
  {
   "cell_type": "code",
   "execution_count": null,
   "metadata": {},
   "outputs": [],
   "source": [
    "df_baseline = df_baseline.groupby(\n",
    "    [\n",
    "        \"Sales Order Number\",\n",
    "        \"Line Number\",\n",
    "        \"Material\",\n",
    "        \"Customer PO Number\",\n",
    "    ],\n",
    "    as_index=False,\n",
    ").agg({\"Total Cartons\": \"sum\"})\n",
    "\n",
    "df_baseline[\"Schedule Line\"] = (\n",
    "    df_baseline[\"Material\"].str.split(\"-\", 1, expand=True)[1].astype(int)\n",
    ")\n",
    "\n",
    "df_baseline"
   ]
  },
  {
   "cell_type": "markdown",
   "metadata": {},
   "source": [
    "## Get input for baseline data"
   ]
  },
  {
   "cell_type": "code",
   "execution_count": null,
   "metadata": {},
   "outputs": [],
   "source": [
    "import os\n",
    "\n",
    "import sagemaker\n",
    "from sagemaker.s3 import S3Downloader, S3Uploader\n",
    "\n",
    "project = \"shapeshifter\"\n",
    "sm_bucket = sagemaker.session.Session().default_bucket()\n",
    "input_data_path = os.path.join(\"s3://\", sm_bucket, project, \"data/input\")\n",
    "\n",
    "# S3Downloader.download(os.path.join(input_data_path, \"data.csv\"), \"full_data\")\n",
    "\n",
    "df_model = pd.read_csv(\"full_data/data.csv\", dtype=dtypes)"
   ]
  },
  {
   "cell_type": "code",
   "execution_count": null,
   "metadata": {},
   "outputs": [],
   "source": [
    "df_model_bu = df_model"
   ]
  },
  {
   "cell_type": "code",
   "execution_count": null,
   "metadata": {},
   "outputs": [],
   "source": [
    "df_model[\"SILHOUETTE_SHORT\"].unique()"
   ]
  },
  {
   "cell_type": "code",
   "execution_count": null,
   "metadata": {},
   "outputs": [],
   "source": [
    "df_model[\"SIZE_CODE\"].unique()"
   ]
  },
  {
   "cell_type": "code",
   "execution_count": null,
   "metadata": {},
   "outputs": [],
   "source": [
    "df_model.groupby(\"SALES_ORDER_HEADER_NUMBER\", group_keys=False).apply(\n",
    "    lambda x: x.sample(frac=0.6)\n",
    ")"
   ]
  },
  {
   "cell_type": "markdown",
   "metadata": {},
   "source": [
    "## Get best model"
   ]
  },
  {
   "cell_type": "markdown",
   "metadata": {},
   "source": [
    "If the next cell fails the first time after running this notebook, just restart the kernel and try again."
   ]
  },
  {
   "cell_type": "code",
   "execution_count": null,
   "metadata": {},
   "outputs": [],
   "source": [
    "import pickle\n",
    "import tarfile\n",
    "\n",
    "import joblib\n",
    "from sagemaker.s3 import S3Downloader\n",
    "\n",
    "tuning_job = sagemaker.tuner.HyperparameterTuner.attach(tuning_job)\n",
    "best_model = tuning_job.best_estimator()\n",
    "S3Downloader.download(best_model.model_data, \"lightgbm\")\n",
    "\n",
    "t = tarfile.open(\"lightgbm/model.tar.gz\")\n",
    "t.extractall(\"lightgbm\")\n",
    "\n",
    "with open(\"lightgbm/model.pkl\", \"rb\") as f:\n",
    "    model = pickle.load(f)"
   ]
  },
  {
   "cell_type": "code",
   "execution_count": null,
   "metadata": {},
   "outputs": [],
   "source": [
    "from sklearn.preprocessing import LabelEncoder\n",
    "\n",
    "categorical_cols = df_model[features].select_dtypes(include=[\"object\"]).columns\n",
    "\n",
    "df_model[categorical_cols] = df_model[categorical_cols].astype(str)\n",
    "le = LabelEncoder()\n",
    "df_model[categorical_cols] = df_model[categorical_cols].apply(\n",
    "    lambda col: le.fit_transform(col)\n",
    ")\n",
    "\n",
    "pred = model.predict(df_model[features])\n",
    "\n",
    "df_model[\"Model Prediction\"] = list(pred)"
   ]
  },
  {
   "cell_type": "markdown",
   "metadata": {},
   "source": [
    "<div class=\"alert alert-info\"> 💡 <strong> Grouped data </strong>\n",
    "\n",
    "Model data has to be grouped as the baseline data is only available at item level for JD Sports.\n",
    "</div>"
   ]
  },
  {
   "cell_type": "code",
   "execution_count": null,
   "metadata": {},
   "outputs": [],
   "source": [
    "df_model_grouped = (\n",
    "    df_model[\n",
    "        [\n",
    "            \"SALES_ORDER_HEADER_NUMBER\",\n",
    "            \"SALES_ORDER_ITEM_NUMBER\",\n",
    "            \"Model Prediction\",\n",
    "            \"NBR_CARTONS_RATIO\",\n",
    "        ]\n",
    "    ]\n",
    "    .groupby([\"SALES_ORDER_HEADER_NUMBER\", \"SALES_ORDER_ITEM_NUMBER\"], as_index=False)\n",
    "    .sum()\n",
    ")\n",
    "\n",
    "df_model_grouped[\"SALES_ORDER_HEADER_NUMBER\"] = df_model_grouped[\n",
    "    \"SALES_ORDER_HEADER_NUMBER\"\n",
    "].astype(int)\n",
    "df_model_grouped[\"SALES_ORDER_ITEM_NUMBER\"] = df_model_grouped[\n",
    "    \"SALES_ORDER_ITEM_NUMBER\"\n",
    "].astype(int)"
   ]
  },
  {
   "cell_type": "code",
   "execution_count": null,
   "metadata": {},
   "outputs": [],
   "source": [
    "df_combined = pd.merge(\n",
    "    left=df_model_grouped,\n",
    "    right=df_baseline,\n",
    "    left_on=[\"SALES_ORDER_HEADER_NUMBER\", \"SALES_ORDER_ITEM_NUMBER\"],\n",
    "    right_on=[\"Sales Order Number\", \"Line Number\"],\n",
    "    how=\"inner\",\n",
    ")\n",
    "df_combined.shape"
   ]
  },
  {
   "cell_type": "code",
   "execution_count": null,
   "metadata": {},
   "outputs": [],
   "source": [
    "print(f'Baseline sum: {sum(df_combined[\"Total Cartons\"])}')\n",
    "print(f'Model sum: {sum(df_combined[\"Model Prediction\"])}')\n",
    "print(f'Actuals sum: {sum(df_combined[\"NBR_CARTONS_RATIO\"])}')"
   ]
  },
  {
   "cell_type": "markdown",
   "metadata": {},
   "source": [
    "## Compare with baseline"
   ]
  },
  {
   "cell_type": "code",
   "execution_count": null,
   "metadata": {},
   "outputs": [],
   "source": [
    "df_combined[\"diff_baseline\"] = (\n",
    "    df_combined[\"NBR_CARTONS_RATIO\"] - df_combined[\"Total Cartons\"]\n",
    ")\n",
    "df_combined[\"diff_model\"] = (\n",
    "    df_combined[\"NBR_CARTONS_RATIO\"] - df_combined[\"Model Prediction\"]\n",
    ")"
   ]
  },
  {
   "cell_type": "code",
   "execution_count": null,
   "metadata": {},
   "outputs": [],
   "source": [
    "t1 = df_combined[[\"diff_baseline\"]]\n",
    "t1 = t1.rename(columns={\"diff_baseline\": \"diff\"})\n",
    "t1[\"type\"] = \"baseline\"\n",
    "t2 = df_combined[[\"diff_model\"]]\n",
    "t2 = t2.rename(columns={\"diff_model\": \"diff\"})\n",
    "t2[\"type\"] = \"model\"\n",
    "\n",
    "df_diff = pd.concat([t1, t2], ignore_index=True)"
   ]
  },
  {
   "cell_type": "code",
   "execution_count": null,
   "metadata": {},
   "outputs": [],
   "source": [
    "plot = sns.kdeplot(\n",
    "    data=df_diff.query(\"diff > -10 & diff < 10\"), x=\"diff\", hue=\"type\", fill=True\n",
    ")\n",
    "\n",
    "plot.axvline(0, color=\"r\", alpha=0.3)\n",
    "plot.axvline(1, linestyle=\"--\", color=\"r\", alpha=0.3)\n",
    "plot.axvline(-1, linestyle=\"--\", color=\"r\", alpha=0.3)"
   ]
  },
  {
   "cell_type": "code",
   "execution_count": null,
   "metadata": {},
   "outputs": [],
   "source": [
    "from sklearn.metrics import (\n",
    "    mean_absolute_error,\n",
    "    mean_absolute_percentage_error,\n",
    "    mean_squared_error,\n",
    "    r2_score,\n",
    ")\n",
    "\n",
    "\n",
    "def get_metrics(y_true, y_pred):\n",
    "    mse = mean_squared_error(y_true, y_pred)\n",
    "    r2 = r2_score(y_true, y_pred)\n",
    "    mae = mean_absolute_error(y_true, y_pred)\n",
    "    mape = mean_absolute_percentage_error(y_true, y_pred)\n",
    "\n",
    "    return pd.Series({\"mse\": mse, \"r2\": r2, \"mae\": mae, \"mape\": mape})"
   ]
  },
  {
   "cell_type": "code",
   "execution_count": null,
   "metadata": {},
   "outputs": [],
   "source": [
    "get_metrics(df_combined[\"NBR_CARTONS_RATIO\"], df_combined[\"Total Cartons\"])"
   ]
  },
  {
   "cell_type": "code",
   "execution_count": null,
   "metadata": {},
   "outputs": [],
   "source": [
    "get_metrics(df_combined[\"NBR_CARTONS_RATIO\"], df_combined[\"Model Prediction\"])"
   ]
  },
  {
   "cell_type": "code",
   "execution_count": null,
   "metadata": {},
   "outputs": [],
   "source": [
    "df_diff[\"diff_abs\"] = abs(df_diff[\"diff\"])"
   ]
  },
  {
   "cell_type": "code",
   "execution_count": null,
   "metadata": {},
   "outputs": [],
   "source": [
    "(\n",
    "    df_diff[[\"type\", \"diff_abs\"]]\n",
    "    .query(\"diff_abs > 10\")\n",
    "    .groupby(\"type\", as_index=False)\n",
    "    .agg(\n",
    "        {\n",
    "            \"diff_abs\": [\"mean\", \"std\", \"count\"],\n",
    "        }\n",
    "    )\n",
    ")"
   ]
  },
  {
   "cell_type": "code",
   "execution_count": null,
   "metadata": {},
   "outputs": [],
   "source": [
    "df_diff[[\"type\", \"diff_abs\"]].query(\"diff_abs > 10\").sort_values(\n",
    "    \"diff_abs\", ascending=False\n",
    ").head(10)"
   ]
  },
  {
   "cell_type": "code",
   "execution_count": null,
   "metadata": {},
   "outputs": [],
   "source": [
    "df_combined.shape[0]"
   ]
  },
  {
   "cell_type": "code",
   "execution_count": null,
   "metadata": {},
   "outputs": [],
   "source": [
    "df_model.shape[0]"
   ]
  },
  {
   "cell_type": "code",
   "execution_count": null,
   "metadata": {},
   "outputs": [],
   "source": [
    "df_baseline.shape[0]"
   ]
  },
  {
   "cell_type": "code",
   "execution_count": null,
   "metadata": {},
   "outputs": [],
   "source": []
  }
 ],
 "metadata": {
  "instance_type": "ml.m5.4xlarge",
  "kernelspec": {
   "display_name": "Python 3 (Data Science 3.0)",
   "language": "python",
   "name": "python3__SAGEMAKER_INTERNAL__arn:aws:sagemaker:eu-west-1:470317259841:image/sagemaker-data-science-310-v1"
  },
  "language_info": {
   "codemirror_mode": {
    "name": "ipython",
    "version": 3
   },
   "file_extension": ".py",
   "mimetype": "text/x-python",
   "name": "python",
   "nbconvert_exporter": "python",
   "pygments_lexer": "ipython3",
   "version": "3.10.6"
  }
 },
 "nbformat": 4,
 "nbformat_minor": 4
}
